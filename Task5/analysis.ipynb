{
 "cells": [
  {
   "cell_type": "code",
   "execution_count": null,
   "id": "4c9a8877",
   "metadata": {},
   "outputs": [],
   "source": [
    "import pandas as pd\n",
    "import matplotlib.pyplot as pt"
   ]
  },
  {
   "cell_type": "code",
   "execution_count": null,
   "id": "4dd67870",
   "metadata": {},
   "outputs": [],
   "source": [
    "# Load CSV file\n",
    "df = pd.read_csv(\"data.csv\")   \n",
    "print(\"✅ Data Loaded\")\n",
    "print(df)  "
   ]
  },
  {
   "cell_type": "code",
   "execution_count": null,
   "id": "52fcd8fd",
   "metadata": {},
   "outputs": [],
   "source": [
    "# Basic info\n",
    "print(\"\\nDescription:\", df.describe)\n",
    "print(\"\\nShape of data:\", df.shape)\n",
    "print(\"\\nColumns:\", df.columns)"
   ]
  },
  {
   "cell_type": "code",
   "execution_count": null,
   "id": "c927f649",
   "metadata": {},
   "outputs": [],
   "source": [
    "# Group by product and sum sales\n",
    "sales_by_prod = df.groupby(\"Product\")[\"Sales\"].sum()\n",
    "print(\"\\nSales by Product:\\n\", sales_by_prod)"
   ]
  },
  {
   "cell_type": "code",
   "execution_count": null,
   "id": "f399717a",
   "metadata": {},
   "outputs": [],
   "source": [
    "# Plot bar chart\n",
    "sales_by_prod.plot(kind=\"bar\", title=\"Sales by Product\")\n",
    "pt.ylabel(\"Total Sales\")\n",
    "pt.show()"
   ]
  },
  {
   "cell_type": "code",
   "execution_count": null,
   "id": "10deb8ab",
   "metadata": {},
   "outputs": [],
   "source": [
    "# Group by region and sum sales\n",
    "sales_by_region = df.groupby(\"Region\")[\"Sales\"].sum()\n",
    "print(\"\\nSales by Region:\\n\", sales_by_region)"
   ]
  },
  {
   "cell_type": "code",
   "execution_count": null,
   "id": "fb5c70cf",
   "metadata": {},
   "outputs": [],
   "source": [
    "# Plot pie chart\n",
    "sales_by_region.plot(kind=\"pie\", autopct=\"%1.1f%%\", title=\"Sales by Region\")\n",
    "pt.ylabel(\"\")  \n",
    "pt.show()"
   ]
  }
 ],
 "metadata": {
  "kernelspec": {
   "display_name": "Python 3",
   "language": "python",
   "name": "python3"
  },
  "language_info": {
   "codemirror_mode": {
    "name": "ipython",
    "version": 3
   },
   "file_extension": ".py",
   "mimetype": "text/x-python",
   "name": "python",
   "nbconvert_exporter": "python",
   "pygments_lexer": "ipython3",
   "version": "3.13.1"
  }
 },
 "nbformat": 4,
 "nbformat_minor": 5
}
